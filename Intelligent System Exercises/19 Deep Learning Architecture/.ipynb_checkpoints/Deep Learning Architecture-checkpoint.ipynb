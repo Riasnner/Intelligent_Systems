{
 "cells": [
  {
   "cell_type": "markdown",
   "id": "0bb2974b-cf98-4fc9-9134-e2a896a42bfd",
   "metadata": {},
   "source": [
    "<h2>Imports</h2>"
   ]
  },
  {
   "cell_type": "code",
   "execution_count": 2,
   "id": "2d81f4b8-5d81-457d-a273-f74e964c4ac1",
   "metadata": {},
   "outputs": [],
   "source": [
    "##Imports##\n",
    "import tensorflow as tf\n",
    "from tensorflow import keras\n",
    "from keras.layers import Conv2D, MaxPooling2D, AveragePooling2D, concatenate, Dense, Flatten"
   ]
  },
  {
   "cell_type": "markdown",
   "id": "97cc8747-e234-4459-87ee-416594b727c6",
   "metadata": {},
   "source": [
    "<h2>Conv Module</h2>"
   ]
  },
  {
   "cell_type": "code",
   "execution_count": 3,
   "id": "96fa5d93-c5ca-4b72-b4ab-75c1a4b498fb",
   "metadata": {},
   "outputs": [],
   "source": [
    "class ConvModule(keras.layers.Layer):\n",
    "    def __init__(\n",
    "    self, kernel_num, kernel_size, strides, padding='same'\n",
    "):\n",
    "        super().__init__()\n",
    "        self.conv = keras.layers.Conv2D(\n",
    "                    kernel_num, \n",
    "                    kernel_size=kernel_size, \n",
    "                    strides=strides, \n",
    "                    padding=padding\n",
    "                )\n",
    "        self.bn   = keras.layers.BatchNormalization()\n",
    "\n",
    "\n",
    "    def call(self, input_tensor, training=False):\n",
    "        x = self.conv(input_tensor)\n",
    "        x = self.bn(x, training=training)\n",
    "        x = tf.nn.relu(x)\n",
    "        return x"
   ]
  },
  {
   "cell_type": "markdown",
   "id": "9ac2ba86-cf37-4e36-943e-690d31e4818d",
   "metadata": {},
   "source": [
    "<h2>Inception Module</h2>"
   ]
  },
  {
   "cell_type": "code",
   "execution_count": 4,
   "id": "2d5cb6b4-4d57-47a4-b0e2-4a066aebabdf",
   "metadata": {},
   "outputs": [],
   "source": [
    "class InceptionModule(keras.layers.Layer):\n",
    "    def __init__(self, kernel_size1x1, kernel_size3x3):\n",
    "        super().__init__()\n",
    "        self.conv1 = ConvModule(\n",
    "            kernel_size1x1, kernel_size=(1,1), strides=(1,1)\n",
    "        )\n",
    "        self.conv2 = ConvModule(\n",
    "            kernel_size3x3, kernel_size=(3,3), strides=(1,1)\n",
    "        )\n",
    "        self.cat   = keras.layers.Concatenate()\n",
    "\n",
    "    def call(self, input_tensor, training=False):\n",
    "        x_1x1 = self.conv1(input_tensor)\n",
    "        x_3x3 = self.conv2(input_tensor)\n",
    "        x = self.cat([x_1x1, x_3x3])\n",
    "        return x"
   ]
  },
  {
   "cell_type": "markdown",
   "id": "90388789-4fd2-4205-922d-641e455d5c1c",
   "metadata": {},
   "source": [
    "<h2>Downsample Module</h2>"
   ]
  },
  {
   "cell_type": "code",
   "execution_count": 5,
   "id": "7b5851be-d8c9-47dc-ad4e-2b0f7f07a81c",
   "metadata": {},
   "outputs": [],
   "source": [
    "class DownsampleModule(keras.layers.Layer):\n",
    "    def __init__(self, kernel_size):\n",
    "        super().__init__()\n",
    "        self.conv3 = ConvModule(\n",
    "            kernel_size, \n",
    "            kernel_size=(3,3), \n",
    "            strides=(2,2), \n",
    "            padding=\"valid\"\n",
    "        ) \n",
    "\n",
    "        self.pool  = keras.layers.MaxPooling2D(\n",
    "            pool_size=(3, 3), \n",
    "            strides=(2,2)\n",
    "        )\n",
    "        self.cat   = keras.layers.Concatenate()\n",
    "\n",
    "    def call(self, input_tensor, training=False):\n",
    "        conv_x = self.conv3(input_tensor, training=training)\n",
    "        pool_x = self.pool(input_tensor)\n",
    "        return self.cat([conv_x, pool_x])"
   ]
  },
  {
   "cell_type": "markdown",
   "id": "b5090af1-3cce-426a-9d24-e15ed3c9b0d9",
   "metadata": {},
   "source": [
    "<h2>Inception (Small)</h2>"
   ]
  },
  {
   "cell_type": "code",
   "execution_count": 6,
   "id": "28eada2e-9ff7-476b-bfe6-fc53ef000678",
   "metadata": {},
   "outputs": [],
   "source": [
    "class MiniInception(keras.Model):\n",
    "    def __init__(self, num_classes=10):\n",
    "        super().__init__()\n",
    "\n",
    "        # the first conv module\n",
    "        self.conv_block = ConvModule(96, (3,3), (1,1))\n",
    "\n",
    "        # 2 inception module and 1 downsample module\n",
    "        self.inception_block1  = InceptionModule(32, 32)\n",
    "        self.inception_block2  = InceptionModule(32, 48)\n",
    "        self.downsample_block1 = DownsampleModule(80)\n",
    "\n",
    "        # 4 inception module and 1 downsample module\n",
    "        self.inception_block3  = InceptionModule(112, 48)\n",
    "        self.inception_block4  = InceptionModule(96, 64)\n",
    "        self.inception_block5  = InceptionModule(80, 80)\n",
    "        self.inception_block6  = InceptionModule(48, 96)\n",
    "        self.downsample_block2 = DownsampleModule(96)\n",
    "\n",
    "        # 2 inception module \n",
    "        self.inception_block7 = InceptionModule(176, 160)\n",
    "        self.inception_block8 = InceptionModule(176, 160)\n",
    "\n",
    "        # average pooling\n",
    "        self.avg_pool = keras.layers.AveragePooling2D((7,7))\n",
    "\n",
    "        # model tail\n",
    "        self.flat      = keras.layers.Flatten()\n",
    "        self.classfier = keras.layers.Dense(\n",
    "            num_classes, activation='softmax'\n",
    "        )\n",
    "        \n",
    "    def call(self, input_tensor, training=False, **kwargs):\n",
    "        # forward pass \n",
    "        x = self.conv_block(input_tensor)\n",
    "        x = self.inception_block1(x)\n",
    "        x = self.inception_block2(x)\n",
    "        x = self.downsample_block1(x)\n",
    "\n",
    "        x = self.inception_block3(x)\n",
    "        x = self.inception_block4(x)\n",
    "        x = self.inception_block5(x)\n",
    "        x = self.inception_block6(x)\n",
    "        x = self.downsample_block2(x)\n",
    "\n",
    "        x = self.inception_block7(x)\n",
    "        x = self.inception_block8(x)\n",
    "        x = self.avg_pool(x)\n",
    "\n",
    "        x = self.flat(x)\n",
    "        return self.classfier(x)\n",
    "\n",
    "    def build_graph(self, raw_shape):\n",
    "        x = keras.Input(shape=raw_shape)\n",
    "        return keras.Model(inputs=[x], outputs=self.call(x))"
   ]
  },
  {
   "cell_type": "code",
   "execution_count": 7,
   "id": "1a0c3d78-10a7-4b35-a254-ec30c297077d",
   "metadata": {},
   "outputs": [
    {
     "name": "stdout",
     "output_type": "stream",
     "text": [
      "Model: \"model\"\n",
      "_________________________________________________________________\n",
      " Layer (type)                Output Shape              Param #   \n",
      "=================================================================\n",
      " input_1 (InputLayer)        [(None, 32, 32, 3)]       0         \n",
      "                                                                 \n",
      " conv_module (ConvModule)    (None, 32, 32, 96)        3072      \n",
      "                                                                 \n",
      " inception_module (Inceptio  (None, 32, 32, 64)        31040     \n",
      " nModule)                                                        \n",
      "                                                                 \n",
      " inception_module_1 (Incept  (None, 32, 32, 80)        30096     \n",
      " ionModule)                                                      \n",
      "                                                                 \n",
      " downsample_module (Downsam  (None, 15, 15, 160)       58000     \n",
      " pleModule)                                                      \n",
      "                                                                 \n",
      " inception_module_2 (Incept  (None, 15, 15, 160)       87840     \n",
      " ionModule)                                                      \n",
      "                                                                 \n",
      " inception_module_3 (Incept  (None, 15, 15, 160)       108320    \n",
      " ionModule)                                                      \n",
      "                                                                 \n",
      " inception_module_4 (Incept  (None, 15, 15, 160)       128800    \n",
      " ionModule)                                                      \n",
      "                                                                 \n",
      " inception_module_5 (Incept  (None, 15, 15, 144)       146640    \n",
      " ionModule)                                                      \n",
      "                                                                 \n",
      " downsample_module_1 (Downs  (None, 7, 7, 240)         124896    \n",
      " ampleModule)                                                    \n",
      "                                                                 \n",
      " inception_module_6 (Incept  (None, 7, 7, 336)         389520    \n",
      " ionModule)                                                      \n",
      "                                                                 \n",
      " inception_module_7 (Incept  (None, 7, 7, 336)         544656    \n",
      " ionModule)                                                      \n",
      "                                                                 \n",
      " average_pooling2d (Average  (None, 1, 1, 336)         0         \n",
      " Pooling2D)                                                      \n",
      "                                                                 \n",
      " flatten (Flatten)           (None, 336)               0         \n",
      "                                                                 \n",
      " dense (Dense)               (None, 10)                3370      \n",
      "                                                                 \n",
      "=================================================================\n",
      "Total params: 1656250 (6.32 MB)\n",
      "Trainable params: 1652826 (6.31 MB)\n",
      "Non-trainable params: 3424 (13.38 KB)\n",
      "_________________________________________________________________\n"
     ]
    }
   ],
   "source": [
    "raw_input = (32, 32, 3)\n",
    "\n",
    "# init model object\n",
    "cm = MiniInception()\n",
    "\n",
    "# The first call to the `cm` will create the weights\n",
    "y = cm(tf.ones(shape=(0,*raw_input))) \n",
    "\n",
    "# print summary\n",
    "cm.build_graph(raw_input).summary()"
   ]
  },
  {
   "cell_type": "code",
   "execution_count": null,
   "id": "ca76528c-a407-4a63-a57e-90b27133d26c",
   "metadata": {},
   "outputs": [],
   "source": []
  }
 ],
 "metadata": {
  "kernelspec": {
   "display_name": "Python 3 (ipykernel)",
   "language": "python",
   "name": "python3"
  },
  "language_info": {
   "codemirror_mode": {
    "name": "ipython",
    "version": 3
   },
   "file_extension": ".py",
   "mimetype": "text/x-python",
   "name": "python",
   "nbconvert_exporter": "python",
   "pygments_lexer": "ipython3",
   "version": "3.11.4"
  }
 },
 "nbformat": 4,
 "nbformat_minor": 5
}
