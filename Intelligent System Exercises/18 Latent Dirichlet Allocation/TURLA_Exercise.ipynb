{
 "cells": [
  {
   "cell_type": "code",
   "execution_count": 29,
   "id": "1bf839d5-dbb3-415a-ac4e-7925e4b63dd1",
   "metadata": {},
   "outputs": [],
   "source": [
    "# Import necessary libraries\n",
    "import spacy\n",
    "import gensim\n",
    "from gensim import corpora\n",
    "from pprint import pprint\n",
    "\n",
    "# Load spaCy's English NLP model\n",
    "nlp = spacy.load('en_core_web_sm')"
   ]
  },
  {
   "cell_type": "code",
   "execution_count": 30,
   "id": "0873a915-3aaf-487d-ae98-623df5fa4bad",
   "metadata": {},
   "outputs": [],
   "source": [
    "documents = [\n",
    "    \"Machines and technology are evolving at a rapid pace as our society grows, and there is an ever-increasing need for more manpower, especially when it comes to manufacturing.\",\n",
    "    \"Deep learning is a branch of machine learning where it teaches artificial intelligence (AI) to imitate the way a human gains knowledge.\",\n",
    "    \"Deep learning performs nonlinear transformations to its input and uses what it learns to create a statistical model as output.\",\n",
    "    \"Manufacturing is the backbone of industry, and thus requires quality control to make sure that the product has no defects.\",\n",
    "    \"It is possible to improve detecting defects more accurately and efficiently using deep learning rather than relying on human sight which is prone to error.\"\n",
    "]"
   ]
  },
  {
   "cell_type": "markdown",
   "id": "5e6e8b67-230e-4ef3-bc7e-ccc9b42b2e31",
   "metadata": {},
   "source": [
    "<h2>Preprocess the documents</h2>"
   ]
  },
  {
   "cell_type": "code",
   "execution_count": 37,
   "id": "e50168c0-fc36-46b5-9026-36fe553bd43f",
   "metadata": {},
   "outputs": [],
   "source": [
    "def preprocess(text):\n",
    "    # Tokenize and lemmatize using spaCy\n",
    "    doc = nlp(text)\n",
    "    tokens = [token.lemma_ for token in doc if not token.is_stop and token.is_alpha]\n",
    "    return tokens\n",
    "\n",
    "# Apply preprocessing to all documents\n",
    "processed_documents = [preprocess(doc) for doc in documents]\n",
    "\n",
    "# Create a dictionary and corpus for LDA\n",
    "dictionary = corpora.Dictionary(processed_documents)\n",
    "corpus = [dictionary.doc2bow(doc) for doc in processed_documents]\n",
    "\n",
    "# Build LDA model\n",
    "lda_model = gensim.models.LdaModel(corpus, num_topics=5, id2word=dictionary, passes=20)\n"
   ]
  },
  {
   "cell_type": "markdown",
   "id": "49944e10-35bf-4d10-9ff5-b9a7e6310a5a",
   "metadata": {},
   "source": [
    "<h2>Print topics and their keywords</h2>"
   ]
  },
  {
   "cell_type": "code",
   "execution_count": 38,
   "id": "812cb88f-5f0a-4406-a1ad-907acb3d0f89",
   "metadata": {},
   "outputs": [
    {
     "name": "stdout",
     "output_type": "stream",
     "text": [
      "[(0,\n",
      "  '0.033*\"manufacturing\" + 0.033*\"pace\" + 0.033*\"evolve\" + 0.033*\"rapid\" + '\n",
      "  '0.033*\"manpower\" + 0.033*\"technology\" + 0.033*\"society\" + '\n",
      "  '0.033*\"especially\" + 0.033*\"need\" + 0.033*\"grow\"'),\n",
      " (1,\n",
      "  '0.019*\"deep\" + 0.019*\"learning\" + 0.019*\"manufacturing\" + 0.019*\"defect\" + '\n",
      "  '0.019*\"human\" + 0.019*\"machine\" + 0.019*\"require\" + 0.019*\"backbone\" + '\n",
      "  '0.019*\"control\" + 0.019*\"product\"'),\n",
      " (2,\n",
      "  '0.038*\"create\" + 0.038*\"output\" + 0.038*\"learn\" + 0.038*\"nonlinear\" + '\n",
      "  '0.038*\"statistical\" + 0.038*\"transformation\" + 0.038*\"input\" + '\n",
      "  '0.038*\"model\" + 0.038*\"use\" + 0.038*\"perform\"'),\n",
      " (3,\n",
      "  '0.019*\"deep\" + 0.019*\"learning\" + 0.019*\"manufacturing\" + 0.019*\"defect\" + '\n",
      "  '0.019*\"human\" + 0.019*\"machine\" + 0.019*\"require\" + 0.019*\"control\" + '\n",
      "  '0.019*\"product\" + 0.019*\"industry\"'),\n",
      " (4,\n",
      "  '0.090*\"learning\" + 0.049*\"deep\" + 0.049*\"human\" + 0.049*\"machine\" + '\n",
      "  '0.049*\"knowledge\" + 0.049*\"intelligence\" + 0.049*\"branch\" + 0.049*\"teach\" + '\n",
      "  '0.049*\"imitate\" + 0.049*\"AI\"')]\n"
     ]
    }
   ],
   "source": [
    "pprint(lda_model.print_topics())"
   ]
  },
  {
   "cell_type": "markdown",
   "id": "865cae8f-0191-4c4a-b9f6-a42cea97b0be",
   "metadata": {},
   "source": [
    "<h2>Assign topics to documents</h2>"
   ]
  },
  {
   "cell_type": "code",
   "execution_count": 39,
   "id": "d3b19934-3dfd-45b8-a484-356cc845a00f",
   "metadata": {},
   "outputs": [
    {
     "name": "stdout",
     "output_type": "stream",
     "text": [
      "Document 1 - Topic: [(0, 0.9427557), (1, 0.014294837), (2, 0.014321894), (3, 0.014294837), (4, 0.014332702)]\n",
      "Document 2 - Topic: [(0, 0.013400027), (1, 0.0133385295), (2, 0.013370788), (3, 0.0133385295), (4, 0.94655216)]\n",
      "Document 3 - Topic: [(0, 0.015444845), (1, 0.015393085), (2, 0.9382312), (3, 0.015393085), (4, 0.015537756)]\n",
      "Document 4 - Topic: [(0, 0.020105876), (1, 0.020011099), (2, 0.9198672), (3, 0.020011099), (4, 0.020004647)]\n",
      "Document 5 - Topic: [(0, 0.9425321), (1, 0.014294841), (2, 0.014390826), (3, 0.014294841), (4, 0.014487332)]\n"
     ]
    }
   ],
   "source": [
    "for i, doc in enumerate(processed_documents):\n",
    "    print(f\"Document {i+1} - Topic: {lda_model.get_document_topics(corpus[i])}\")"
   ]
  },
  {
   "cell_type": "code",
   "execution_count": null,
   "id": "888ed995-cc58-4fed-a992-21f001ebeed9",
   "metadata": {},
   "outputs": [],
   "source": []
  }
 ],
 "metadata": {
  "kernelspec": {
   "display_name": "Python 3 (ipykernel)",
   "language": "python",
   "name": "python3"
  },
  "language_info": {
   "codemirror_mode": {
    "name": "ipython",
    "version": 3
   },
   "file_extension": ".py",
   "mimetype": "text/x-python",
   "name": "python",
   "nbconvert_exporter": "python",
   "pygments_lexer": "ipython3",
   "version": "3.11.4"
  }
 },
 "nbformat": 4,
 "nbformat_minor": 5
}
