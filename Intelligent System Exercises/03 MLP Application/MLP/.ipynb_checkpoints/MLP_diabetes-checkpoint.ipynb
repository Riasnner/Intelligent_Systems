{
 "cells": [
  {
   "cell_type": "code",
   "execution_count": 232,
   "id": "9533b27c-9d59-47c9-acec-de796bbed406",
   "metadata": {},
   "outputs": [],
   "source": [
    "import numpy as np\n",
    "import pandas as pd\n",
    "import tensorflow as tf"
   ]
  },
  {
   "cell_type": "markdown",
   "id": "f4563c58-c81a-4abb-bb1c-707bcab6f9c8",
   "metadata": {},
   "source": [
    "## Dataset"
   ]
  },
  {
   "cell_type": "code",
   "execution_count": 206,
   "id": "708ccd68-3870-4c84-868a-92bfb41e95ff",
   "metadata": {},
   "outputs": [],
   "source": [
    "dataset = pd.read_csv('diabetes_prediction_dataset.csv')"
   ]
  },
  {
   "cell_type": "code",
   "execution_count": 207,
   "id": "cb130dea-80b9-438b-a36b-c2ef79a2d137",
   "metadata": {},
   "outputs": [
    {
     "data": {
      "text/html": [
       "<div>\n",
       "<style scoped>\n",
       "    .dataframe tbody tr th:only-of-type {\n",
       "        vertical-align: middle;\n",
       "    }\n",
       "\n",
       "    .dataframe tbody tr th {\n",
       "        vertical-align: top;\n",
       "    }\n",
       "\n",
       "    .dataframe thead th {\n",
       "        text-align: right;\n",
       "    }\n",
       "</style>\n",
       "<table border=\"1\" class=\"dataframe\">\n",
       "  <thead>\n",
       "    <tr style=\"text-align: right;\">\n",
       "      <th></th>\n",
       "      <th>gender</th>\n",
       "      <th>age</th>\n",
       "      <th>hypertension</th>\n",
       "      <th>heart_disease</th>\n",
       "      <th>smoking_history</th>\n",
       "      <th>bmi</th>\n",
       "      <th>HbA1c_level</th>\n",
       "      <th>blood_glucose_level</th>\n",
       "      <th>diabetes</th>\n",
       "    </tr>\n",
       "  </thead>\n",
       "  <tbody>\n",
       "    <tr>\n",
       "      <th>0</th>\n",
       "      <td>Female</td>\n",
       "      <td>80.0</td>\n",
       "      <td>0</td>\n",
       "      <td>1</td>\n",
       "      <td>never</td>\n",
       "      <td>25.19</td>\n",
       "      <td>6.6</td>\n",
       "      <td>140</td>\n",
       "      <td>0</td>\n",
       "    </tr>\n",
       "    <tr>\n",
       "      <th>1</th>\n",
       "      <td>Female</td>\n",
       "      <td>54.0</td>\n",
       "      <td>0</td>\n",
       "      <td>0</td>\n",
       "      <td>No Info</td>\n",
       "      <td>27.32</td>\n",
       "      <td>6.6</td>\n",
       "      <td>80</td>\n",
       "      <td>0</td>\n",
       "    </tr>\n",
       "    <tr>\n",
       "      <th>2</th>\n",
       "      <td>Male</td>\n",
       "      <td>28.0</td>\n",
       "      <td>0</td>\n",
       "      <td>0</td>\n",
       "      <td>never</td>\n",
       "      <td>27.32</td>\n",
       "      <td>5.7</td>\n",
       "      <td>158</td>\n",
       "      <td>0</td>\n",
       "    </tr>\n",
       "    <tr>\n",
       "      <th>3</th>\n",
       "      <td>Female</td>\n",
       "      <td>36.0</td>\n",
       "      <td>0</td>\n",
       "      <td>0</td>\n",
       "      <td>current</td>\n",
       "      <td>23.45</td>\n",
       "      <td>5.0</td>\n",
       "      <td>155</td>\n",
       "      <td>0</td>\n",
       "    </tr>\n",
       "    <tr>\n",
       "      <th>4</th>\n",
       "      <td>Male</td>\n",
       "      <td>76.0</td>\n",
       "      <td>1</td>\n",
       "      <td>1</td>\n",
       "      <td>current</td>\n",
       "      <td>20.14</td>\n",
       "      <td>4.8</td>\n",
       "      <td>155</td>\n",
       "      <td>0</td>\n",
       "    </tr>\n",
       "    <tr>\n",
       "      <th>...</th>\n",
       "      <td>...</td>\n",
       "      <td>...</td>\n",
       "      <td>...</td>\n",
       "      <td>...</td>\n",
       "      <td>...</td>\n",
       "      <td>...</td>\n",
       "      <td>...</td>\n",
       "      <td>...</td>\n",
       "      <td>...</td>\n",
       "    </tr>\n",
       "    <tr>\n",
       "      <th>99995</th>\n",
       "      <td>Female</td>\n",
       "      <td>80.0</td>\n",
       "      <td>0</td>\n",
       "      <td>0</td>\n",
       "      <td>No Info</td>\n",
       "      <td>27.32</td>\n",
       "      <td>6.2</td>\n",
       "      <td>90</td>\n",
       "      <td>0</td>\n",
       "    </tr>\n",
       "    <tr>\n",
       "      <th>99996</th>\n",
       "      <td>Female</td>\n",
       "      <td>2.0</td>\n",
       "      <td>0</td>\n",
       "      <td>0</td>\n",
       "      <td>No Info</td>\n",
       "      <td>17.37</td>\n",
       "      <td>6.5</td>\n",
       "      <td>100</td>\n",
       "      <td>0</td>\n",
       "    </tr>\n",
       "    <tr>\n",
       "      <th>99997</th>\n",
       "      <td>Male</td>\n",
       "      <td>66.0</td>\n",
       "      <td>0</td>\n",
       "      <td>0</td>\n",
       "      <td>former</td>\n",
       "      <td>27.83</td>\n",
       "      <td>5.7</td>\n",
       "      <td>155</td>\n",
       "      <td>0</td>\n",
       "    </tr>\n",
       "    <tr>\n",
       "      <th>99998</th>\n",
       "      <td>Female</td>\n",
       "      <td>24.0</td>\n",
       "      <td>0</td>\n",
       "      <td>0</td>\n",
       "      <td>never</td>\n",
       "      <td>35.42</td>\n",
       "      <td>4.0</td>\n",
       "      <td>100</td>\n",
       "      <td>0</td>\n",
       "    </tr>\n",
       "    <tr>\n",
       "      <th>99999</th>\n",
       "      <td>Female</td>\n",
       "      <td>57.0</td>\n",
       "      <td>0</td>\n",
       "      <td>0</td>\n",
       "      <td>current</td>\n",
       "      <td>22.43</td>\n",
       "      <td>6.6</td>\n",
       "      <td>90</td>\n",
       "      <td>0</td>\n",
       "    </tr>\n",
       "  </tbody>\n",
       "</table>\n",
       "<p>100000 rows × 9 columns</p>\n",
       "</div>"
      ],
      "text/plain": [
       "       gender   age  hypertension  heart_disease smoking_history    bmi  \\\n",
       "0      Female  80.0             0              1           never  25.19   \n",
       "1      Female  54.0             0              0         No Info  27.32   \n",
       "2        Male  28.0             0              0           never  27.32   \n",
       "3      Female  36.0             0              0         current  23.45   \n",
       "4        Male  76.0             1              1         current  20.14   \n",
       "...       ...   ...           ...            ...             ...    ...   \n",
       "99995  Female  80.0             0              0         No Info  27.32   \n",
       "99996  Female   2.0             0              0         No Info  17.37   \n",
       "99997    Male  66.0             0              0          former  27.83   \n",
       "99998  Female  24.0             0              0           never  35.42   \n",
       "99999  Female  57.0             0              0         current  22.43   \n",
       "\n",
       "       HbA1c_level  blood_glucose_level  diabetes  \n",
       "0              6.6                  140         0  \n",
       "1              6.6                   80         0  \n",
       "2              5.7                  158         0  \n",
       "3              5.0                  155         0  \n",
       "4              4.8                  155         0  \n",
       "...            ...                  ...       ...  \n",
       "99995          6.2                   90         0  \n",
       "99996          6.5                  100         0  \n",
       "99997          5.7                  155         0  \n",
       "99998          4.0                  100         0  \n",
       "99999          6.6                   90         0  \n",
       "\n",
       "[100000 rows x 9 columns]"
      ]
     },
     "execution_count": 207,
     "metadata": {},
     "output_type": "execute_result"
    }
   ],
   "source": [
    "dataset"
   ]
  },
  {
   "cell_type": "code",
   "execution_count": 208,
   "id": "4c2b503f-fd37-4fa7-8696-90a27757f90b",
   "metadata": {},
   "outputs": [],
   "source": [
    "X = dataset.iloc[:, 0:-1].values\n",
    "y = dataset.iloc[:, -1].values"
   ]
  },
  {
   "cell_type": "code",
   "execution_count": 209,
   "id": "79698428-069a-47e5-aef4-68099dc980b1",
   "metadata": {},
   "outputs": [
    {
     "data": {
      "text/html": [
       "<div>\n",
       "<style scoped>\n",
       "    .dataframe tbody tr th:only-of-type {\n",
       "        vertical-align: middle;\n",
       "    }\n",
       "\n",
       "    .dataframe tbody tr th {\n",
       "        vertical-align: top;\n",
       "    }\n",
       "\n",
       "    .dataframe thead th {\n",
       "        text-align: right;\n",
       "    }\n",
       "</style>\n",
       "<table border=\"1\" class=\"dataframe\">\n",
       "  <thead>\n",
       "    <tr style=\"text-align: right;\">\n",
       "      <th></th>\n",
       "      <th>diabetes</th>\n",
       "    </tr>\n",
       "  </thead>\n",
       "  <tbody>\n",
       "    <tr>\n",
       "      <th>0</th>\n",
       "      <td>0</td>\n",
       "    </tr>\n",
       "    <tr>\n",
       "      <th>1</th>\n",
       "      <td>0</td>\n",
       "    </tr>\n",
       "    <tr>\n",
       "      <th>2</th>\n",
       "      <td>0</td>\n",
       "    </tr>\n",
       "    <tr>\n",
       "      <th>3</th>\n",
       "      <td>0</td>\n",
       "    </tr>\n",
       "    <tr>\n",
       "      <th>4</th>\n",
       "      <td>0</td>\n",
       "    </tr>\n",
       "    <tr>\n",
       "      <th>...</th>\n",
       "      <td>...</td>\n",
       "    </tr>\n",
       "    <tr>\n",
       "      <th>99995</th>\n",
       "      <td>0</td>\n",
       "    </tr>\n",
       "    <tr>\n",
       "      <th>99996</th>\n",
       "      <td>0</td>\n",
       "    </tr>\n",
       "    <tr>\n",
       "      <th>99997</th>\n",
       "      <td>0</td>\n",
       "    </tr>\n",
       "    <tr>\n",
       "      <th>99998</th>\n",
       "      <td>0</td>\n",
       "    </tr>\n",
       "    <tr>\n",
       "      <th>99999</th>\n",
       "      <td>0</td>\n",
       "    </tr>\n",
       "  </tbody>\n",
       "</table>\n",
       "<p>100000 rows × 1 columns</p>\n",
       "</div>"
      ],
      "text/plain": [
       "       diabetes\n",
       "0             0\n",
       "1             0\n",
       "2             0\n",
       "3             0\n",
       "4             0\n",
       "...         ...\n",
       "99995         0\n",
       "99996         0\n",
       "99997         0\n",
       "99998         0\n",
       "99999         0\n",
       "\n",
       "[100000 rows x 1 columns]"
      ]
     },
     "execution_count": 209,
     "metadata": {},
     "output_type": "execute_result"
    }
   ],
   "source": [
    "pd.DataFrame(y, columns = [\"diabetes\"])"
   ]
  },
  {
   "cell_type": "code",
   "execution_count": 210,
   "id": "a5046f23-ff01-4d3c-a376-ba416ae83089",
   "metadata": {},
   "outputs": [
    {
     "data": {
      "text/html": [
       "<div>\n",
       "<style scoped>\n",
       "    .dataframe tbody tr th:only-of-type {\n",
       "        vertical-align: middle;\n",
       "    }\n",
       "\n",
       "    .dataframe tbody tr th {\n",
       "        vertical-align: top;\n",
       "    }\n",
       "\n",
       "    .dataframe thead th {\n",
       "        text-align: right;\n",
       "    }\n",
       "</style>\n",
       "<table border=\"1\" class=\"dataframe\">\n",
       "  <thead>\n",
       "    <tr style=\"text-align: right;\">\n",
       "      <th></th>\n",
       "      <th>gender</th>\n",
       "      <th>age</th>\n",
       "      <th>hyptertension</th>\n",
       "      <th>heart_disease</th>\n",
       "      <th>smoking_history</th>\n",
       "      <th>bmi</th>\n",
       "      <th>HbA1c_level</th>\n",
       "      <th>blood_glucose_level</th>\n",
       "    </tr>\n",
       "  </thead>\n",
       "  <tbody>\n",
       "    <tr>\n",
       "      <th>0</th>\n",
       "      <td>Female</td>\n",
       "      <td>80.0</td>\n",
       "      <td>0</td>\n",
       "      <td>1</td>\n",
       "      <td>never</td>\n",
       "      <td>25.19</td>\n",
       "      <td>6.6</td>\n",
       "      <td>140</td>\n",
       "    </tr>\n",
       "    <tr>\n",
       "      <th>1</th>\n",
       "      <td>Female</td>\n",
       "      <td>54.0</td>\n",
       "      <td>0</td>\n",
       "      <td>0</td>\n",
       "      <td>No Info</td>\n",
       "      <td>27.32</td>\n",
       "      <td>6.6</td>\n",
       "      <td>80</td>\n",
       "    </tr>\n",
       "    <tr>\n",
       "      <th>2</th>\n",
       "      <td>Male</td>\n",
       "      <td>28.0</td>\n",
       "      <td>0</td>\n",
       "      <td>0</td>\n",
       "      <td>never</td>\n",
       "      <td>27.32</td>\n",
       "      <td>5.7</td>\n",
       "      <td>158</td>\n",
       "    </tr>\n",
       "    <tr>\n",
       "      <th>3</th>\n",
       "      <td>Female</td>\n",
       "      <td>36.0</td>\n",
       "      <td>0</td>\n",
       "      <td>0</td>\n",
       "      <td>current</td>\n",
       "      <td>23.45</td>\n",
       "      <td>5.0</td>\n",
       "      <td>155</td>\n",
       "    </tr>\n",
       "    <tr>\n",
       "      <th>4</th>\n",
       "      <td>Male</td>\n",
       "      <td>76.0</td>\n",
       "      <td>1</td>\n",
       "      <td>1</td>\n",
       "      <td>current</td>\n",
       "      <td>20.14</td>\n",
       "      <td>4.8</td>\n",
       "      <td>155</td>\n",
       "    </tr>\n",
       "    <tr>\n",
       "      <th>...</th>\n",
       "      <td>...</td>\n",
       "      <td>...</td>\n",
       "      <td>...</td>\n",
       "      <td>...</td>\n",
       "      <td>...</td>\n",
       "      <td>...</td>\n",
       "      <td>...</td>\n",
       "      <td>...</td>\n",
       "    </tr>\n",
       "    <tr>\n",
       "      <th>99995</th>\n",
       "      <td>Female</td>\n",
       "      <td>80.0</td>\n",
       "      <td>0</td>\n",
       "      <td>0</td>\n",
       "      <td>No Info</td>\n",
       "      <td>27.32</td>\n",
       "      <td>6.2</td>\n",
       "      <td>90</td>\n",
       "    </tr>\n",
       "    <tr>\n",
       "      <th>99996</th>\n",
       "      <td>Female</td>\n",
       "      <td>2.0</td>\n",
       "      <td>0</td>\n",
       "      <td>0</td>\n",
       "      <td>No Info</td>\n",
       "      <td>17.37</td>\n",
       "      <td>6.5</td>\n",
       "      <td>100</td>\n",
       "    </tr>\n",
       "    <tr>\n",
       "      <th>99997</th>\n",
       "      <td>Male</td>\n",
       "      <td>66.0</td>\n",
       "      <td>0</td>\n",
       "      <td>0</td>\n",
       "      <td>former</td>\n",
       "      <td>27.83</td>\n",
       "      <td>5.7</td>\n",
       "      <td>155</td>\n",
       "    </tr>\n",
       "    <tr>\n",
       "      <th>99998</th>\n",
       "      <td>Female</td>\n",
       "      <td>24.0</td>\n",
       "      <td>0</td>\n",
       "      <td>0</td>\n",
       "      <td>never</td>\n",
       "      <td>35.42</td>\n",
       "      <td>4.0</td>\n",
       "      <td>100</td>\n",
       "    </tr>\n",
       "    <tr>\n",
       "      <th>99999</th>\n",
       "      <td>Female</td>\n",
       "      <td>57.0</td>\n",
       "      <td>0</td>\n",
       "      <td>0</td>\n",
       "      <td>current</td>\n",
       "      <td>22.43</td>\n",
       "      <td>6.6</td>\n",
       "      <td>90</td>\n",
       "    </tr>\n",
       "  </tbody>\n",
       "</table>\n",
       "<p>100000 rows × 8 columns</p>\n",
       "</div>"
      ],
      "text/plain": [
       "       gender   age hyptertension heart_disease smoking_history    bmi  \\\n",
       "0      Female  80.0             0             1           never  25.19   \n",
       "1      Female  54.0             0             0         No Info  27.32   \n",
       "2        Male  28.0             0             0           never  27.32   \n",
       "3      Female  36.0             0             0         current  23.45   \n",
       "4        Male  76.0             1             1         current  20.14   \n",
       "...       ...   ...           ...           ...             ...    ...   \n",
       "99995  Female  80.0             0             0         No Info  27.32   \n",
       "99996  Female   2.0             0             0         No Info  17.37   \n",
       "99997    Male  66.0             0             0          former  27.83   \n",
       "99998  Female  24.0             0             0           never  35.42   \n",
       "99999  Female  57.0             0             0         current  22.43   \n",
       "\n",
       "      HbA1c_level blood_glucose_level  \n",
       "0             6.6                 140  \n",
       "1             6.6                  80  \n",
       "2             5.7                 158  \n",
       "3             5.0                 155  \n",
       "4             4.8                 155  \n",
       "...           ...                 ...  \n",
       "99995         6.2                  90  \n",
       "99996         6.5                 100  \n",
       "99997         5.7                 155  \n",
       "99998         4.0                 100  \n",
       "99999         6.6                  90  \n",
       "\n",
       "[100000 rows x 8 columns]"
      ]
     },
     "execution_count": 210,
     "metadata": {},
     "output_type": "execute_result"
    }
   ],
   "source": [
    "pd.DataFrame(X, columns = [\"gender\",\"age\",\"hyptertension\",\"heart_disease\",\"smoking_history\",\"bmi\",\"HbA1c_level\",\"blood_glucose_level\"])"
   ]
  },
  {
   "cell_type": "code",
   "execution_count": 211,
   "id": "2ea57a5d-a7b3-4945-b27e-6db3ba757096",
   "metadata": {},
   "outputs": [
    {
     "data": {
      "text/plain": [
       "array([['Female', 80.0, 0, ..., 25.19, 6.6, 140],\n",
       "       ['Female', 54.0, 0, ..., 27.32, 6.6, 80],\n",
       "       ['Male', 28.0, 0, ..., 27.32, 5.7, 158],\n",
       "       ...,\n",
       "       ['Male', 66.0, 0, ..., 27.83, 5.7, 155],\n",
       "       ['Female', 24.0, 0, ..., 35.42, 4.0, 100],\n",
       "       ['Female', 57.0, 0, ..., 22.43, 6.6, 90]], dtype=object)"
      ]
     },
     "execution_count": 211,
     "metadata": {},
     "output_type": "execute_result"
    }
   ],
   "source": [
    "X"
   ]
  },
  {
   "cell_type": "code",
   "execution_count": 212,
   "id": "d3055f9c-6bc0-47c0-9a74-7b52e7c54555",
   "metadata": {},
   "outputs": [
    {
     "data": {
      "text/plain": [
       "array([0, 0, 0, ..., 0, 0, 0], dtype=int64)"
      ]
     },
     "execution_count": 212,
     "metadata": {},
     "output_type": "execute_result"
    }
   ],
   "source": [
    "y"
   ]
  },
  {
   "cell_type": "code",
   "execution_count": 213,
   "id": "1f38b110-eb3d-4db7-8117-8c4c46db78aa",
   "metadata": {},
   "outputs": [],
   "source": [
    "from sklearn.preprocessing import LabelEncoder\n",
    "le = LabelEncoder()\n",
    "X[:, 0] = le.fit_transform(X[:, 0])"
   ]
  },
  {
   "cell_type": "code",
   "execution_count": 214,
   "id": "f6bba5ae-0366-4a7d-80f7-21c202e66e86",
   "metadata": {},
   "outputs": [
    {
     "name": "stdout",
     "output_type": "stream",
     "text": [
      "[[0 80.0 0 ... 25.19 6.6 140]\n",
      " [0 54.0 0 ... 27.32 6.6 80]\n",
      " [1 28.0 0 ... 27.32 5.7 158]\n",
      " ...\n",
      " [1 66.0 0 ... 27.83 5.7 155]\n",
      " [0 24.0 0 ... 35.42 4.0 100]\n",
      " [0 57.0 0 ... 22.43 6.6 90]]\n"
     ]
    }
   ],
   "source": [
    "print(X)"
   ]
  },
  {
   "cell_type": "code",
   "execution_count": 215,
   "id": "0aadf130-d8b5-424d-b52d-27c0ad1c128f",
   "metadata": {},
   "outputs": [],
   "source": [
    "from sklearn.compose import ColumnTransformer\n",
    "from sklearn.preprocessing import OneHotEncoder\n",
    "ct = ColumnTransformer(transformers=[('encoder', OneHotEncoder(), [4])], remainder='passthrough')\n",
    "X = np.array(ct.fit_transform(X))"
   ]
  },
  {
   "cell_type": "markdown",
   "id": "63a88032-7654-45db-a7a9-5d7afc0654e6",
   "metadata": {},
   "source": [
    "### Splitting the dataset into the Training set and Test set"
   ]
  },
  {
   "cell_type": "markdown",
   "id": "aeefc4df-7858-44b4-8284-e0db8fdcb099",
   "metadata": {},
   "source": [
    "from sklearn.model_selection import train_test_split\n",
    "X_train, X_test, y_train, y_test = train_test_split(X, y, test_size = 0.2, random_state = 0)"
   ]
  },
  {
   "cell_type": "code",
   "execution_count": 216,
   "id": "1f4bdfad-7323-4961-9fc6-ec007fa1ebcc",
   "metadata": {},
   "outputs": [],
   "source": [
    "from sklearn.preprocessing import StandardScaler\n",
    "sc = StandardScaler()\n",
    "X_train = sc.fit_transform(X_train)\n",
    "X_test = sc.transform(X_test)"
   ]
  },
  {
   "cell_type": "markdown",
   "id": "d1b381cd-a70b-423c-9138-3c8d1a3d5d1f",
   "metadata": {},
   "source": [
    "## Building the Ann"
   ]
  },
  {
   "cell_type": "markdown",
   "id": "1f97ecb6-0962-4dd8-ab0c-8a8941efbea9",
   "metadata": {},
   "source": [
    "### Initializing the Ann"
   ]
  },
  {
   "cell_type": "code",
   "execution_count": 217,
   "id": "7b0abc72-5a2a-4fc7-bde9-f5023f528afb",
   "metadata": {},
   "outputs": [],
   "source": [
    "ann = tf.keras.models.Sequential()"
   ]
  },
  {
   "cell_type": "markdown",
   "id": "d6e89a3c-5aae-4f07-8069-84f1b0b76b2f",
   "metadata": {},
   "source": [
    "### Adding the input layer and the first hidden layer"
   ]
  },
  {
   "cell_type": "code",
   "execution_count": 218,
   "id": "ace8a631-87af-454c-b19d-d648c44ebd49",
   "metadata": {},
   "outputs": [],
   "source": [
    "ann.add(tf.keras.layers.Dense(units=6, activation='relu'))"
   ]
  },
  {
   "cell_type": "markdown",
   "id": "c25a1473-e114-412c-83af-a7274b559386",
   "metadata": {},
   "source": [
    "### Adding the second hidden layer"
   ]
  },
  {
   "cell_type": "code",
   "execution_count": 219,
   "id": "5fb55dcb-fb22-4aaa-ba12-4f5be21f386f",
   "metadata": {},
   "outputs": [],
   "source": [
    "#ann.add(tf.keras.layers.Dense(units=6, activation='relu'))\n",
    "ann.add(tf.keras.layers.Dense(units=6, activation='relu'))"
   ]
  },
  {
   "cell_type": "markdown",
   "id": "1bd01ac1-e7b2-4e81-b905-adf13534cded",
   "metadata": {},
   "source": [
    "### Using Activation and Optimizer"
   ]
  },
  {
   "cell_type": "code",
   "execution_count": 220,
   "id": "9792a970-4b96-4e74-8eab-21ec122fc17d",
   "metadata": {},
   "outputs": [],
   "source": [
    "ann.add(tf.keras.layers.Activation('softmax'))\n",
    "opt = tf.keras.optimizers.Adam(learning_rate=0.01)\n",
    "ann.compile(loss='categorical_crossentropy', optimizer='adam')"
   ]
  },
  {
   "cell_type": "markdown",
   "id": "ab89b1f3-6a68-40b7-a9d8-0fee2e582684",
   "metadata": {},
   "source": [
    "### Adding the output layer"
   ]
  },
  {
   "cell_type": "code",
   "execution_count": 221,
   "id": "c55cc6b5-82a2-4525-a4d5-3219187aad22",
   "metadata": {},
   "outputs": [],
   "source": [
    "ann.add(tf.keras.layers.Dense(units=1, activation='sigmoid'))"
   ]
  },
  {
   "cell_type": "markdown",
   "id": "20c573e0-a38b-4003-b409-9608cfb42b2d",
   "metadata": {},
   "source": [
    "## Training the ANN"
   ]
  },
  {
   "cell_type": "markdown",
   "id": "a4f9f9c4-b6f7-4ba6-a578-567a486a5d3a",
   "metadata": {},
   "source": [
    "### Compiling the ANN"
   ]
  },
  {
   "cell_type": "code",
   "execution_count": 222,
   "id": "d0e01e08-7559-4a13-a1cd-ecd4a6470da2",
   "metadata": {},
   "outputs": [],
   "source": [
    "ann.compile(optimizer = 'adam', loss = 'binary_crossentropy', metrics = ['accuracy'])"
   ]
  },
  {
   "cell_type": "markdown",
   "id": "d42ea8a6-fd32-434c-a442-9276157bc7f5",
   "metadata": {},
   "source": [
    "### Training the ANN on the Training set"
   ]
  },
  {
   "cell_type": "code",
   "execution_count": 223,
   "id": "896883f7-c16f-4bc8-96bd-d726dd3a1a35",
   "metadata": {},
   "outputs": [
    {
     "name": "stdout",
     "output_type": "stream",
     "text": [
      "Epoch 1/100\n",
      "2500/2500 [==============================] - 2s 745us/step - loss: 0.2386 - accuracy: 0.9412\n",
      "Epoch 2/100\n",
      "2500/2500 [==============================] - 2s 727us/step - loss: 0.1362 - accuracy: 0.9583\n",
      "Epoch 3/100\n",
      "2500/2500 [==============================] - 2s 734us/step - loss: 0.1237 - accuracy: 0.9591\n",
      "Epoch 4/100\n",
      "2500/2500 [==============================] - 2s 713us/step - loss: 0.1181 - accuracy: 0.9602\n",
      "Epoch 5/100\n",
      "2500/2500 [==============================] - 2s 743us/step - loss: 0.1148 - accuracy: 0.9606\n",
      "Epoch 6/100\n",
      "2500/2500 [==============================] - 2s 721us/step - loss: 0.1129 - accuracy: 0.9607\n",
      "Epoch 7/100\n",
      "2500/2500 [==============================] - 2s 723us/step - loss: 0.1116 - accuracy: 0.9611\n",
      "Epoch 8/100\n",
      "2500/2500 [==============================] - 2s 749us/step - loss: 0.1107 - accuracy: 0.9615\n",
      "Epoch 9/100\n",
      "2500/2500 [==============================] - 2s 716us/step - loss: 0.1098 - accuracy: 0.9617\n",
      "Epoch 10/100\n",
      "2500/2500 [==============================] - 2s 743us/step - loss: 0.1084 - accuracy: 0.9627\n",
      "Epoch 11/100\n",
      "2500/2500 [==============================] - 2s 725us/step - loss: 0.1066 - accuracy: 0.9641\n",
      "Epoch 12/100\n",
      "2500/2500 [==============================] - 2s 723us/step - loss: 0.1047 - accuracy: 0.9650\n",
      "Epoch 13/100\n",
      "2500/2500 [==============================] - 2s 703us/step - loss: 0.1032 - accuracy: 0.9661\n",
      "Epoch 14/100\n",
      "2500/2500 [==============================] - 2s 696us/step - loss: 0.1019 - accuracy: 0.9667\n",
      "Epoch 15/100\n",
      "2500/2500 [==============================] - 2s 691us/step - loss: 0.1008 - accuracy: 0.9674\n",
      "Epoch 16/100\n",
      "2500/2500 [==============================] - 2s 713us/step - loss: 0.0997 - accuracy: 0.9680\n",
      "Epoch 17/100\n",
      "2500/2500 [==============================] - 2s 728us/step - loss: 0.0986 - accuracy: 0.9687\n",
      "Epoch 18/100\n",
      "2500/2500 [==============================] - 2s 711us/step - loss: 0.0976 - accuracy: 0.9689\n",
      "Epoch 19/100\n",
      "2500/2500 [==============================] - 2s 691us/step - loss: 0.0967 - accuracy: 0.9693\n",
      "Epoch 20/100\n",
      "2500/2500 [==============================] - 2s 724us/step - loss: 0.0959 - accuracy: 0.9699\n",
      "Epoch 21/100\n",
      "2500/2500 [==============================] - 2s 683us/step - loss: 0.0952 - accuracy: 0.9699\n",
      "Epoch 22/100\n",
      "2500/2500 [==============================] - 2s 717us/step - loss: 0.0947 - accuracy: 0.9700\n",
      "Epoch 23/100\n",
      "2500/2500 [==============================] - 2s 702us/step - loss: 0.0941 - accuracy: 0.9702\n",
      "Epoch 24/100\n",
      "2500/2500 [==============================] - 2s 723us/step - loss: 0.0936 - accuracy: 0.9704\n",
      "Epoch 25/100\n",
      "2500/2500 [==============================] - 2s 719us/step - loss: 0.0931 - accuracy: 0.9707\n",
      "Epoch 26/100\n",
      "2500/2500 [==============================] - 2s 726us/step - loss: 0.0927 - accuracy: 0.9707\n",
      "Epoch 27/100\n",
      "2500/2500 [==============================] - 2s 715us/step - loss: 0.0922 - accuracy: 0.9707\n",
      "Epoch 28/100\n",
      "2500/2500 [==============================] - 2s 709us/step - loss: 0.0918 - accuracy: 0.9709\n",
      "Epoch 29/100\n",
      "2500/2500 [==============================] - 2s 708us/step - loss: 0.0914 - accuracy: 0.9710\n",
      "Epoch 30/100\n",
      "2500/2500 [==============================] - 2s 740us/step - loss: 0.0911 - accuracy: 0.9709\n",
      "Epoch 31/100\n",
      "2500/2500 [==============================] - 2s 708us/step - loss: 0.0910 - accuracy: 0.9710\n",
      "Epoch 32/100\n",
      "2500/2500 [==============================] - 2s 698us/step - loss: 0.0906 - accuracy: 0.9710\n",
      "Epoch 33/100\n",
      "2500/2500 [==============================] - 2s 696us/step - loss: 0.0907 - accuracy: 0.9710\n",
      "Epoch 34/100\n",
      "2500/2500 [==============================] - 2s 697us/step - loss: 0.0904 - accuracy: 0.9710\n",
      "Epoch 35/100\n",
      "2500/2500 [==============================] - 2s 727us/step - loss: 0.0903 - accuracy: 0.9711\n",
      "Epoch 36/100\n",
      "2500/2500 [==============================] - 2s 710us/step - loss: 0.0902 - accuracy: 0.9711\n",
      "Epoch 37/100\n",
      "2500/2500 [==============================] - 2s 701us/step - loss: 0.0902 - accuracy: 0.9711\n",
      "Epoch 38/100\n",
      "2500/2500 [==============================] - 2s 702us/step - loss: 0.0899 - accuracy: 0.9711\n",
      "Epoch 39/100\n",
      "2500/2500 [==============================] - 2s 734us/step - loss: 0.0898 - accuracy: 0.9713\n",
      "Epoch 40/100\n",
      "2500/2500 [==============================] - 2s 710us/step - loss: 0.0900 - accuracy: 0.9711\n",
      "Epoch 41/100\n",
      "2500/2500 [==============================] - 2s 717us/step - loss: 0.0897 - accuracy: 0.9711\n",
      "Epoch 42/100\n",
      "2500/2500 [==============================] - 2s 705us/step - loss: 0.0896 - accuracy: 0.9712\n",
      "Epoch 43/100\n",
      "2500/2500 [==============================] - 2s 692us/step - loss: 0.0896 - accuracy: 0.9712\n",
      "Epoch 44/100\n",
      "2500/2500 [==============================] - 2s 689us/step - loss: 0.0894 - accuracy: 0.9712\n",
      "Epoch 45/100\n",
      "2500/2500 [==============================] - 2s 670us/step - loss: 0.0893 - accuracy: 0.9711\n",
      "Epoch 46/100\n",
      "2500/2500 [==============================] - 2s 693us/step - loss: 0.0894 - accuracy: 0.9711\n",
      "Epoch 47/100\n",
      "2500/2500 [==============================] - 2s 675us/step - loss: 0.0892 - accuracy: 0.9712\n",
      "Epoch 48/100\n",
      "2500/2500 [==============================] - 2s 687us/step - loss: 0.0892 - accuracy: 0.9712\n",
      "Epoch 49/100\n",
      "2500/2500 [==============================] - 2s 673us/step - loss: 0.0891 - accuracy: 0.9712\n",
      "Epoch 50/100\n",
      "2500/2500 [==============================] - 2s 700us/step - loss: 0.0889 - accuracy: 0.9712\n",
      "Epoch 51/100\n",
      "2500/2500 [==============================] - 2s 732us/step - loss: 0.0888 - accuracy: 0.9713\n",
      "Epoch 52/100\n",
      "2500/2500 [==============================] - 2s 735us/step - loss: 0.0888 - accuracy: 0.9713\n",
      "Epoch 53/100\n",
      "2500/2500 [==============================] - 2s 748us/step - loss: 0.0887 - accuracy: 0.9713\n",
      "Epoch 54/100\n",
      "2500/2500 [==============================] - 2s 748us/step - loss: 0.0887 - accuracy: 0.9714\n",
      "Epoch 55/100\n",
      "2500/2500 [==============================] - 2s 733us/step - loss: 0.0886 - accuracy: 0.9713\n",
      "Epoch 56/100\n",
      "2500/2500 [==============================] - 2s 739us/step - loss: 0.0885 - accuracy: 0.9713\n",
      "Epoch 57/100\n",
      "2500/2500 [==============================] - 2s 698us/step - loss: 0.0884 - accuracy: 0.9714\n",
      "Epoch 58/100\n",
      "2500/2500 [==============================] - 2s 701us/step - loss: 0.0883 - accuracy: 0.9713\n",
      "Epoch 59/100\n",
      "2500/2500 [==============================] - 2s 713us/step - loss: 0.0883 - accuracy: 0.9714\n",
      "Epoch 60/100\n",
      "2500/2500 [==============================] - 2s 712us/step - loss: 0.0883 - accuracy: 0.9713\n",
      "Epoch 61/100\n",
      "2500/2500 [==============================] - 2s 718us/step - loss: 0.0880 - accuracy: 0.9713\n",
      "Epoch 62/100\n",
      "2500/2500 [==============================] - 2s 720us/step - loss: 0.0881 - accuracy: 0.9715\n",
      "Epoch 63/100\n",
      "2500/2500 [==============================] - 2s 730us/step - loss: 0.0883 - accuracy: 0.9714\n",
      "Epoch 64/100\n",
      "2500/2500 [==============================] - 2s 708us/step - loss: 0.0881 - accuracy: 0.9714\n",
      "Epoch 65/100\n",
      "2500/2500 [==============================] - 2s 708us/step - loss: 0.0879 - accuracy: 0.9715\n",
      "Epoch 66/100\n",
      "2500/2500 [==============================] - 2s 714us/step - loss: 0.0879 - accuracy: 0.9714\n",
      "Epoch 67/100\n",
      "2500/2500 [==============================] - 2s 709us/step - loss: 0.0879 - accuracy: 0.9714\n",
      "Epoch 68/100\n",
      "2500/2500 [==============================] - 2s 712us/step - loss: 0.0879 - accuracy: 0.9714\n",
      "Epoch 69/100\n",
      "2500/2500 [==============================] - 2s 711us/step - loss: 0.0879 - accuracy: 0.9715\n",
      "Epoch 70/100\n",
      "2500/2500 [==============================] - 2s 708us/step - loss: 0.0879 - accuracy: 0.9715\n",
      "Epoch 71/100\n",
      "2500/2500 [==============================] - 2s 694us/step - loss: 0.0877 - accuracy: 0.9715\n",
      "Epoch 72/100\n",
      "2500/2500 [==============================] - 2s 711us/step - loss: 0.0877 - accuracy: 0.9715\n",
      "Epoch 73/100\n",
      "2500/2500 [==============================] - 2s 709us/step - loss: 0.0878 - accuracy: 0.9714\n",
      "Epoch 74/100\n",
      "2500/2500 [==============================] - 2s 704us/step - loss: 0.0877 - accuracy: 0.9714\n",
      "Epoch 75/100\n",
      "2500/2500 [==============================] - 2s 692us/step - loss: 0.0877 - accuracy: 0.9714\n",
      "Epoch 76/100\n",
      "2500/2500 [==============================] - 2s 695us/step - loss: 0.0877 - accuracy: 0.9715\n",
      "Epoch 77/100\n",
      "2500/2500 [==============================] - 2s 697us/step - loss: 0.0877 - accuracy: 0.9715\n",
      "Epoch 78/100\n",
      "2500/2500 [==============================] - 2s 738us/step - loss: 0.0878 - accuracy: 0.9714\n",
      "Epoch 79/100\n",
      "2500/2500 [==============================] - 2s 733us/step - loss: 0.0877 - accuracy: 0.9714\n",
      "Epoch 80/100\n",
      "2500/2500 [==============================] - 2s 730us/step - loss: 0.0875 - accuracy: 0.9716\n",
      "Epoch 81/100\n",
      "2500/2500 [==============================] - 2s 725us/step - loss: 0.0875 - accuracy: 0.9715\n",
      "Epoch 82/100\n",
      "2500/2500 [==============================] - 2s 730us/step - loss: 0.0876 - accuracy: 0.9714\n",
      "Epoch 83/100\n",
      "2500/2500 [==============================] - 2s 702us/step - loss: 0.0875 - accuracy: 0.9716\n",
      "Epoch 84/100\n",
      "2500/2500 [==============================] - 2s 714us/step - loss: 0.0875 - accuracy: 0.9715\n",
      "Epoch 85/100\n",
      "2500/2500 [==============================] - 2s 728us/step - loss: 0.0875 - accuracy: 0.9715\n",
      "Epoch 86/100\n",
      "2500/2500 [==============================] - 2s 707us/step - loss: 0.0874 - accuracy: 0.9715\n",
      "Epoch 87/100\n",
      "2500/2500 [==============================] - 2s 738us/step - loss: 0.0875 - accuracy: 0.9715\n",
      "Epoch 88/100\n",
      "2500/2500 [==============================] - 2s 710us/step - loss: 0.0873 - accuracy: 0.9717\n",
      "Epoch 89/100\n",
      "2500/2500 [==============================] - 2s 698us/step - loss: 0.0875 - accuracy: 0.9715\n",
      "Epoch 90/100\n",
      "2500/2500 [==============================] - 2s 707us/step - loss: 0.0875 - accuracy: 0.9714\n",
      "Epoch 91/100\n",
      "2500/2500 [==============================] - 2s 709us/step - loss: 0.0873 - accuracy: 0.9716\n",
      "Epoch 92/100\n",
      "2500/2500 [==============================] - 2s 732us/step - loss: 0.0873 - accuracy: 0.9716\n",
      "Epoch 93/100\n",
      "2500/2500 [==============================] - 2s 721us/step - loss: 0.0874 - accuracy: 0.9715\n",
      "Epoch 94/100\n",
      "2500/2500 [==============================] - 2s 731us/step - loss: 0.0873 - accuracy: 0.9716\n",
      "Epoch 95/100\n",
      "2500/2500 [==============================] - 2s 757us/step - loss: 0.0874 - accuracy: 0.9714\n",
      "Epoch 96/100\n",
      "2500/2500 [==============================] - 2s 737us/step - loss: 0.0873 - accuracy: 0.9715\n",
      "Epoch 97/100\n",
      "2500/2500 [==============================] - 2s 772us/step - loss: 0.0874 - accuracy: 0.9716\n",
      "Epoch 98/100\n",
      "2500/2500 [==============================] - 2s 776us/step - loss: 0.0872 - accuracy: 0.9716\n",
      "Epoch 99/100\n",
      "2500/2500 [==============================] - 2s 695us/step - loss: 0.0873 - accuracy: 0.9715\n",
      "Epoch 100/100\n",
      "2500/2500 [==============================] - 2s 712us/step - loss: 0.0874 - accuracy: 0.9717\n"
     ]
    },
    {
     "data": {
      "text/plain": [
       "<keras.src.callbacks.History at 0x25d99d7d790>"
      ]
     },
     "execution_count": 223,
     "metadata": {},
     "output_type": "execute_result"
    }
   ],
   "source": [
    "ann.fit(X_train, y_train, batch_size = 32, epochs = 100)"
   ]
  },
  {
   "cell_type": "markdown",
   "id": "b402be9e-59c0-4977-8de7-83b5dfdb8451",
   "metadata": {},
   "source": [
    "## Making the predictions and evaluating the model"
   ]
  },
  {
   "cell_type": "markdown",
   "id": "8fa4225c-6eaa-4f00-ad12-0d346ecc7c3e",
   "metadata": {},
   "source": [
    "### Predicting the Test set results"
   ]
  },
  {
   "cell_type": "code",
   "execution_count": 224,
   "id": "d7af8872-b3ff-4e66-a0ad-4e60cd395789",
   "metadata": {},
   "outputs": [
    {
     "name": "stdout",
     "output_type": "stream",
     "text": [
      "625/625 [==============================] - 0s 538us/step\n",
      "[[0 0]\n",
      " [0 0]\n",
      " [0 0]\n",
      " ...\n",
      " [0 0]\n",
      " [0 0]\n",
      " [0 0]]\n"
     ]
    }
   ],
   "source": [
    "y_pred = ann.predict(X_test)\n",
    "y_pred = (y_pred > 0.5)\n",
    "print(np.concatenate((y_pred.reshape(len(y_pred),1), y_test.reshape(len(y_test),1)),1))"
   ]
  },
  {
   "cell_type": "markdown",
   "id": "72ffadb2-7629-475b-9839-46ce8e6de424",
   "metadata": {},
   "source": [
    "### Making the Confusion Matrix with Accuracy, Sensitivity, Specificity"
   ]
  },
  {
   "cell_type": "code",
   "execution_count": 238,
   "id": "5dbb8b1c-a422-449c-a187-125ba1f83386",
   "metadata": {},
   "outputs": [
    {
     "name": "stdout",
     "output_type": "stream",
     "text": [
      "[[18295     2]\n",
      " [  559  1144]]\n",
      "Accuracy :  0.97195\n",
      "Sensitivity :  0.9998906924632454\n",
      "Specificity :  0.6717557251908397\n"
     ]
    }
   ],
   "source": [
    "from sklearn.metrics import confusion_matrix, accuracy_score\n",
    "import matplotlib.pyplot as plt\n",
    "conf_matrix = confusion_matrix(y_test, y_pred)\n",
    "print(conf_matrix)\n",
    "accuracy_score(y_test, y_pred)\n",
    "\n",
    "total1=sum(sum(conf_matrix))\n",
    "#####from confusion matrix calculate accuracy\n",
    "accuracy1=(conf_matrix[0,0]+conf_matrix[1,1])/total1\n",
    "print ('Accuracy : ', accuracy1)\n",
    "\n",
    "sensitivity1 = conf_matrix[0,0]/(conf_matrix[0,0]+conf_matrix[0,1])\n",
    "print('Sensitivity : ', sensitivity1 )\n",
    "\n",
    "specificity1 = conf_matrix[1,1]/(conf_matrix[1,0]+conf_matrix[1,1])\n",
    "print('Specificity : ', specificity1)"
   ]
  },
  {
   "cell_type": "code",
   "execution_count": 226,
   "id": "b8e8bd28-e46b-44a3-88f8-64725cdcfa66",
   "metadata": {},
   "outputs": [
    {
     "data": {
      "image/png": "[encoded data removed]",
      "text/plain": [
       "<Figure size 750x750 with 1 Axes>"
      ]
     },
     "metadata": {},
     "output_type": "display_data"
    }
   ],
   "source": [
    "fig, ax = plt.subplots(figsize=(7.5, 7.5))\n",
    "ax.matshow(conf_matrix, cmap=plt.cm.Blues, alpha=0.3)\n",
    "for i in range(conf_matrix.shape[0]):\n",
    "    for j in range(conf_matrix.shape[1]):\n",
    "        ax.text(x=j, y=i,s=conf_matrix[i, j], va='center', ha='center', size='xx-large')\n",
    " \n",
    "plt.xlabel('Predictions', fontsize=18)\n",
    "plt.ylabel('Actuals', fontsize=18)\n",
    "plt.title('Confusion Matrix', fontsize=18)\n",
    "plt.show()"
   ]
  }
 ],
 "metadata": {
  "kernelspec": {
   "display_name": "Python 3 (ipykernel)",
   "language": "python",
   "name": "python3"
  },
  "language_info": {
   "codemirror_mode": {
    "name": "ipython",
    "version": 3
   },
   "file_extension": ".py",
   "mimetype": "text/x-python",
   "name": "python",
   "nbconvert_exporter": "python",
   "pygments_lexer": "ipython3",
   "version": "3.11.4"
  }
 },
 "nbformat": 4,
 "nbformat_minor": 5
}
